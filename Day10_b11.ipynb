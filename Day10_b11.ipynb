{
 "cells": [
  {
   "cell_type": "code",
   "execution_count": 1,
   "metadata": {},
   "outputs": [
    {
     "name": "stdout",
     "output_type": "stream",
     "text": [
      "hello!!!\n"
     ]
    }
   ],
   "source": [
    "def greet_user():\n",
    "    \"\"\"Greeting a user\"\"\"\n",
    "    print(\"hello!!!\")\n",
    "    \n",
    "greet_user()"
   ]
  },
  {
   "cell_type": "code",
   "execution_count": 6,
   "metadata": {},
   "outputs": [
    {
     "name": "stdout",
     "output_type": "stream",
     "text": [
      "Enter Username hari\n",
      "\n",
      "Hello!!! Welcome back Hari!!\n"
     ]
    }
   ],
   "source": [
    "def greet_user(username):\n",
    "    \"\"\"Greeting a user based on input\"\"\"\n",
    "    print(f\"\\nHello!!! Welcome back {username.title()}!!\")\n",
    "    \n",
    "usr=input(\"Enter Username \")\n",
    "\n",
    "greet_user(usr)"
   ]
  },
  {
   "cell_type": "code",
   "execution_count": 9,
   "metadata": {},
   "outputs": [
    {
     "name": "stdout",
     "output_type": "stream",
     "text": [
      "\n",
      "City name is Chennai\n",
      "\n",
      "Team Name is Csk\n"
     ]
    }
   ],
   "source": [
    "def ipl_team(city,team):\n",
    "    \"\"\"Displaying ipl Team & City\"\"\"\n",
    "    print(f\"\\nCity name is {city.title()}\")\n",
    "    print(f\"\\nTeam Name is {team.title()}\")\n",
    "\n",
    "ipl_team(\"chennai\",\"csk\")"
   ]
  },
  {
   "cell_type": "code",
   "execution_count": 10,
   "metadata": {},
   "outputs": [
    {
     "name": "stdout",
     "output_type": "stream",
     "text": [
      "Enter City Name: chennai\n",
      "Enter Team Name: csk\n",
      "\n",
      "City name is Chennai\n",
      "\n",
      "Team Name is Csk\n"
     ]
    }
   ],
   "source": [
    "def ipl_team(city,team):\n",
    "    \"\"\"Displaying ipl Team & City\"\"\"\n",
    "    print(f\"\\nCity name is {city.title()}\")\n",
    "    print(f\"\\nTeam Name is {team.title()}\")\n",
    "\n",
    "cty=input(\"Enter City Name: \")\n",
    "tm=input(\"Enter Team Name: \")\n",
    "\n",
    "ipl_team(cty,tm)"
   ]
  },
  {
   "cell_type": "code",
   "execution_count": 11,
   "metadata": {},
   "outputs": [
    {
     "name": "stdout",
     "output_type": "stream",
     "text": [
      "Enter City Name: mumbai\n",
      "Enter Team Name: mi\n",
      "\n",
      "City name is Mumbai\n",
      "\n",
      "Team Name is Mi\n"
     ]
    }
   ],
   "source": [
    "def ipl_team(city,team):\n",
    "    \"\"\"Displaying ipl Team & City\"\"\"\n",
    "    print(f\"\\nCity name is {city.title()}\")\n",
    "    print(f\"\\nTeam Name is {team.title()}\")\n",
    "\n",
    "cty=input(\"Enter City Name: \")\n",
    "tm=input(\"Enter Team Name: \")\n",
    "\n",
    "ipl_team(team=tm,city=cty)"
   ]
  },
  {
   "cell_type": "code",
   "execution_count": 15,
   "metadata": {},
   "outputs": [
    {
     "name": "stdout",
     "output_type": "stream",
     "text": [
      "Enter City Name: chennai\n",
      "Enter Team Name: super kings\n"
     ]
    },
    {
     "data": {
      "text/plain": [
       "'Chennai Super Kings'"
      ]
     },
     "execution_count": 15,
     "metadata": {},
     "output_type": "execute_result"
    }
   ],
   "source": [
    "def ipl_team_name(city,name):\n",
    "    \"\"\"returns full name of IPL team\"\"\"\n",
    "    name= f\"{city} {name}\"\n",
    "    return name.title()\n",
    "\n",
    "cty=input(\"Enter City Name: \")\n",
    "nm=input(\"Enter Team Name: \")\n",
    "\n",
    "ipl_team_name(cty,nm)"
   ]
  },
  {
   "cell_type": "code",
   "execution_count": 16,
   "metadata": {},
   "outputs": [
    {
     "name": "stdout",
     "output_type": "stream",
     "text": [
      "Enter City Name: mumbai\n",
      "Enter Team Name: indians\n"
     ]
    },
    {
     "data": {
      "text/plain": [
       "'Mumbai Indians'"
      ]
     },
     "execution_count": 16,
     "metadata": {},
     "output_type": "execute_result"
    }
   ],
   "source": [
    "def ipl_team_name(city,name):\n",
    "    \"\"\"returns full name of IPL team\"\"\"\n",
    "    name= f\"{city} {name}\"\n",
    "    return name.title()\n",
    "\n",
    "cty=input(\"Enter City Name: \")\n",
    "nm=input(\"Enter Team Name: \")\n",
    "\n",
    "ipl_team_name(cty,nm)"
   ]
  },
  {
   "cell_type": "code",
   "execution_count": 17,
   "metadata": {},
   "outputs": [
    {
     "data": {
      "text/plain": [
       "'Delhi Capitals'"
      ]
     },
     "execution_count": 17,
     "metadata": {},
     "output_type": "execute_result"
    }
   ],
   "source": [
    "ipl_team_name(\"delhi\",\"capitals\")"
   ]
  },
  {
   "cell_type": "code",
   "execution_count": null,
   "metadata": {},
   "outputs": [],
   "source": []
  }
 ],
 "metadata": {
  "kernelspec": {
   "display_name": "Python 3",
   "language": "python",
   "name": "python3"
  },
  "language_info": {
   "codemirror_mode": {
    "name": "ipython",
    "version": 3
   },
   "file_extension": ".py",
   "mimetype": "text/x-python",
   "name": "python",
   "nbconvert_exporter": "python",
   "pygments_lexer": "ipython3",
   "version": "3.7.4"
  }
 },
 "nbformat": 4,
 "nbformat_minor": 2
}
