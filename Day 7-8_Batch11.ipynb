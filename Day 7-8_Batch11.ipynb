{
 "cells": [
  {
   "cell_type": "code",
   "execution_count": 1,
   "metadata": {},
   "outputs": [],
   "source": [
    "flowers = {\"sunflower\":\"yellow\",\"rose\":\"pink\",\"lotus\":\"purple\"}"
   ]
  },
  {
   "cell_type": "code",
   "execution_count": 3,
   "metadata": {},
   "outputs": [
    {
     "name": "stdout",
     "output_type": "stream",
     "text": [
      "{'sunflower': 'yellow', 'rose': 'pink', 'lotus': 'purple'}\n"
     ]
    }
   ],
   "source": [
    "print(flowers)"
   ]
  },
  {
   "cell_type": "code",
   "execution_count": 4,
   "metadata": {},
   "outputs": [
    {
     "data": {
      "text/plain": [
       "dict"
      ]
     },
     "execution_count": 4,
     "metadata": {},
     "output_type": "execute_result"
    }
   ],
   "source": [
    "type(flowers)"
   ]
  },
  {
   "cell_type": "code",
   "execution_count": 5,
   "metadata": {},
   "outputs": [
    {
     "name": "stdout",
     "output_type": "stream",
     "text": [
      "yellow\n"
     ]
    }
   ],
   "source": [
    "print(flowers[\"sunflower\"])"
   ]
  },
  {
   "cell_type": "code",
   "execution_count": 6,
   "metadata": {},
   "outputs": [
    {
     "ename": "KeyError",
     "evalue": "'yellow'",
     "output_type": "error",
     "traceback": [
      "\u001b[1;31m---------------------------------------------------------------------------\u001b[0m",
      "\u001b[1;31mKeyError\u001b[0m                                  Traceback (most recent call last)",
      "\u001b[1;32m<ipython-input-6-215c9fe12e40>\u001b[0m in \u001b[0;36m<module>\u001b[1;34m\u001b[0m\n\u001b[1;32m----> 1\u001b[1;33m \u001b[0mprint\u001b[0m\u001b[1;33m(\u001b[0m\u001b[0mflowers\u001b[0m\u001b[1;33m[\u001b[0m\u001b[1;34m\"yellow\"\u001b[0m\u001b[1;33m]\u001b[0m\u001b[1;33m)\u001b[0m\u001b[1;33m\u001b[0m\u001b[1;33m\u001b[0m\u001b[0m\n\u001b[0m",
      "\u001b[1;31mKeyError\u001b[0m: 'yellow'"
     ]
    }
   ],
   "source": [
    "print(flowers[\"yellow\"])"
   ]
  },
  {
   "cell_type": "code",
   "execution_count": 7,
   "metadata": {},
   "outputs": [
    {
     "name": "stdout",
     "output_type": "stream",
     "text": [
      "The colour of CSK jersey is yellow\n"
     ]
    }
   ],
   "source": [
    "csk=flowers[\"sunflower\"]\n",
    "\n",
    "print(f\"The colour of CSK jersey is {csk}\")"
   ]
  },
  {
   "cell_type": "code",
   "execution_count": 9,
   "metadata": {},
   "outputs": [
    {
     "name": "stdout",
     "output_type": "stream",
     "text": [
      "{'sunflower': 'yellow', 'rose': 'pink', 'lotus': 'purple', 'tulip': 'blue', 'jasmine': 'white'}\n"
     ]
    }
   ],
   "source": [
    "flowers[\"tulip\"] = \"blue\"\n",
    "\n",
    "flowers[\"jasmine\"] = \"white\"\n",
    "\n",
    "print(flowers)"
   ]
  },
  {
   "cell_type": "code",
   "execution_count": 18,
   "metadata": {},
   "outputs": [
    {
     "name": "stdout",
     "output_type": "stream",
     "text": [
      "The actual colour off tulip is red colour\n"
     ]
    }
   ],
   "source": [
    "#----Modifying of dictionary\n",
    "\n",
    "flowers[\"tulip\"]=\"red\"  #-----mutable\n",
    "\n",
    "print(f\"The actual colour off tulip is {flowers['tulip']} colour\")"
   ]
  },
  {
   "cell_type": "code",
   "execution_count": 19,
   "metadata": {},
   "outputs": [
    {
     "name": "stdout",
     "output_type": "stream",
     "text": [
      "{'sunflower': 'yellow', 'rose': 'pink', 'lotus': 'purple', 'jasmine': 'white'}\n"
     ]
    }
   ],
   "source": [
    "del flowers['tulip']\n",
    "\n",
    "print(flowers)"
   ]
  },
  {
   "cell_type": "code",
   "execution_count": 21,
   "metadata": {},
   "outputs": [
    {
     "name": "stdout",
     "output_type": "stream",
     "text": [
      "{'chennai': 'csk', 'mumbai': 'mi', 'delhi': 'dc', 'hyderabad': 'srh', 'kolkata': 'kkr'}\n"
     ]
    }
   ],
   "source": [
    "ipl_teams={\n",
    "    \"chennai\":\"csk\",\n",
    "    \"mumbai\":\"mi\",\n",
    "    \"delhi\":\"dc\",\n",
    "    \"hyderabad\":\"srh\",\n",
    "    \"kolkata\":\"kkr\"\n",
    "}\n",
    "\n",
    "print(ipl_teams)"
   ]
  },
  {
   "cell_type": "code",
   "execution_count": 29,
   "metadata": {},
   "outputs": [
    {
     "name": "stdout",
     "output_type": "stream",
     "text": [
      " My home team is Csk\n"
     ]
    }
   ],
   "source": [
    "home_team=ipl_teams[\"chennai\"].title()\n",
    "\n",
    "print(f\" My home team is {home_team}\")"
   ]
  },
  {
   "cell_type": "code",
   "execution_count": 30,
   "metadata": {},
   "outputs": [
    {
     "ename": "KeyError",
     "evalue": "'tulip'",
     "output_type": "error",
     "traceback": [
      "\u001b[1;31m---------------------------------------------------------------------------\u001b[0m",
      "\u001b[1;31mKeyError\u001b[0m                                  Traceback (most recent call last)",
      "\u001b[1;32m<ipython-input-30-4d175a47107f>\u001b[0m in \u001b[0;36m<module>\u001b[1;34m\u001b[0m\n\u001b[1;32m----> 1\u001b[1;33m \u001b[0mprint\u001b[0m\u001b[1;33m(\u001b[0m\u001b[0mflowers\u001b[0m\u001b[1;33m[\u001b[0m\u001b[1;34m\"tulip\"\u001b[0m\u001b[1;33m]\u001b[0m\u001b[1;33m)\u001b[0m\u001b[1;33m\u001b[0m\u001b[1;33m\u001b[0m\u001b[0m\n\u001b[0m",
      "\u001b[1;31mKeyError\u001b[0m: 'tulip'"
     ]
    }
   ],
   "source": [
    "print(flowers[\"tulip\"])"
   ]
  },
  {
   "cell_type": "code",
   "execution_count": 31,
   "metadata": {},
   "outputs": [
    {
     "name": "stdout",
     "output_type": "stream",
     "text": [
      "Flower deleted earlier\n"
     ]
    }
   ],
   "source": [
    "del_flower = flowers.get(\"tulip\",\"Flower deleted earlier\")\n",
    "\n",
    "print(del_flower)"
   ]
  },
  {
   "cell_type": "code",
   "execution_count": 41,
   "metadata": {},
   "outputs": [
    {
     "name": "stdout",
     "output_type": "stream",
     "text": [
      "\n",
      " City: Chennai\n",
      " Team: Csk\n",
      "\n",
      " City: Mumbai\n",
      " Team: Mi\n",
      "\n",
      " City: Delhi\n",
      " Team: Dc\n",
      "\n",
      " City: Hyderabad\n",
      " Team: Srh\n",
      "\n",
      " City: Kolkata\n",
      " Team: Kkr\n"
     ]
    }
   ],
   "source": [
    "for city,team in ipl_teams.items():\n",
    "    print(f\"\\n City: {city.title()}\")\n",
    "    print(f\" Team: {team.title()}\")"
   ]
  },
  {
   "cell_type": "code",
   "execution_count": 44,
   "metadata": {},
   "outputs": [
    {
     "name": "stdout",
     "output_type": "stream",
     "text": [
      "Chennai\n",
      "Mumbai\n",
      "Delhi\n",
      "Hyderabad\n",
      "Kolkata\n"
     ]
    }
   ],
   "source": [
    "for city in ipl_teams.keys():\n",
    "    print(city.title())"
   ]
  },
  {
   "cell_type": "code",
   "execution_count": 45,
   "metadata": {},
   "outputs": [
    {
     "name": "stdout",
     "output_type": "stream",
     "text": [
      "Csk\n",
      "Mi\n",
      "Dc\n",
      "Srh\n",
      "Kkr\n"
     ]
    }
   ],
   "source": [
    "for team in ipl_teams.values():\n",
    "    print(team.title())"
   ]
  },
  {
   "cell_type": "code",
   "execution_count": null,
   "metadata": {},
   "outputs": [],
   "source": []
  }
 ],
 "metadata": {
  "kernelspec": {
   "display_name": "Python 3",
   "language": "python",
   "name": "python3"
  },
  "language_info": {
   "codemirror_mode": {
    "name": "ipython",
    "version": 3
   },
   "file_extension": ".py",
   "mimetype": "text/x-python",
   "name": "python",
   "nbconvert_exporter": "python",
   "pygments_lexer": "ipython3",
   "version": "3.7.4"
  }
 },
 "nbformat": 4,
 "nbformat_minor": 2
}
