{
 "cells": [
  {
   "cell_type": "code",
   "execution_count": 2,
   "metadata": {},
   "outputs": [
    {
     "name": "stdout",
     "output_type": "stream",
     "text": [
      "Please enter your namehari\n",
      "\n",
      "Hi Hari! Welcome to the Python training\n"
     ]
    }
   ],
   "source": [
    "name=input(\"Please enter your name\")\n",
    "\n",
    "print(f\"\\nHi {name.title()}! Welcome to the Python training\")"
   ]
  },
  {
   "cell_type": "code",
   "execution_count": 5,
   "metadata": {},
   "outputs": [
    {
     "name": "stdout",
     "output_type": "stream",
     "text": [
      "How old are you??25\n",
      "\n",
      "Hari!! You are eligible to vote\n"
     ]
    }
   ],
   "source": [
    "age=input(\"How old are you??\")\n",
    "\n",
    "age=int(age)\n",
    "\n",
    "if age>=18:\n",
    "    print(f\"\\n{name.title()}!! You are eligible to vote\")\n",
    "else:\n",
    "    print(f\"\\n{name.title()}!! You are not eligible to vote\")"
   ]
  },
  {
   "cell_type": "code",
   "execution_count": 6,
   "metadata": {},
   "outputs": [
    {
     "name": "stdout",
     "output_type": "stream",
     "text": [
      "How old are you??12\n",
      "\n",
      "Hari!! You are not eligible to vote\n"
     ]
    }
   ],
   "source": [
    "age=input(\"How old are you??\")\n",
    "\n",
    "age=int(age)\n",
    "\n",
    "if age>=18:\n",
    "    print(f\"\\n{name.title()}!! You are eligible to vote\")\n",
    "else:\n",
    "    print(f\"\\n{name.title()}!! You are not eligible to vote\")"
   ]
  },
  {
   "cell_type": "code",
   "execution_count": 8,
   "metadata": {},
   "outputs": [
    {
     "name": "stdout",
     "output_type": "stream",
     "text": [
      "Enter the number you want to check6\n",
      "\n",
      "The number 6 is even!!\n"
     ]
    }
   ],
   "source": [
    "num=input(\"Enter the number you want to check\")\n",
    "\n",
    "num=int(num)\n",
    "\n",
    "if num%2==0:\n",
    "    print(f\"\\nThe number {num} is even!!\")\n",
    "else:\n",
    "    print(f\"\\nThe number {num} is odd!!\")"
   ]
  },
  {
   "cell_type": "code",
   "execution_count": 9,
   "metadata": {},
   "outputs": [
    {
     "name": "stdout",
     "output_type": "stream",
     "text": [
      "Enter the number you want to check7\n",
      "\n",
      "The number 7 is odd!!\n"
     ]
    }
   ],
   "source": [
    "num=input(\"Enter the number you want to check\")\n",
    "\n",
    "num=int(num)\n",
    "\n",
    "if num%2==0:\n",
    "    print(f\"\\nThe number {num} is even!!\")\n",
    "else:\n",
    "    print(f\"\\nThe number {num} is odd!!\")"
   ]
  },
  {
   "cell_type": "code",
   "execution_count": 15,
   "metadata": {},
   "outputs": [
    {
     "name": "stdout",
     "output_type": "stream",
     "text": [
      "Enter how many powers of 2 you want 4\n",
      "\n",
      "Printing powers of 2\n",
      "\n",
      "1\n",
      "2\n",
      "4\n",
      "8\n"
     ]
    }
   ],
   "source": [
    "number=input(\"Enter how many powers of 2 you want \")\n",
    "number=int(number)\n",
    "\n",
    "print(\"\\nPrinting powers of 2\\n\")\n",
    "\n",
    "current_num = 1\n",
    "count = 1\n",
    "\n",
    "while count<=number:\n",
    "    print(current_num)\n",
    "    previous_num=current_num\n",
    "    current_num=current_num+previous_num\n",
    "    count+=1"
   ]
  },
  {
   "cell_type": "code",
   "execution_count": 16,
   "metadata": {},
   "outputs": [
    {
     "name": "stdout",
     "output_type": "stream",
     "text": [
      "Enter how many powers of 2 you want 6\n",
      "\n",
      "Printing powers of 2\n",
      "\n",
      "1\n",
      "2\n",
      "4\n",
      "8\n",
      "16\n",
      "32\n"
     ]
    }
   ],
   "source": [
    "number=input(\"Enter how many powers of 2 you want \")\n",
    "number=int(number)\n",
    "\n",
    "print(\"\\nPrinting powers of 2\\n\")\n",
    "\n",
    "current_num = 1\n",
    "count = 1\n",
    "\n",
    "while count<=number:\n",
    "    print(current_num)\n",
    "    previous_num=current_num\n",
    "    current_num=current_num+previous_num\n",
    "    count+=1"
   ]
  },
  {
   "cell_type": "code",
   "execution_count": null,
   "metadata": {},
   "outputs": [],
   "source": []
  }
 ],
 "metadata": {
  "kernelspec": {
   "display_name": "Python 3",
   "language": "python",
   "name": "python3"
  },
  "language_info": {
   "codemirror_mode": {
    "name": "ipython",
    "version": 3
   },
   "file_extension": ".py",
   "mimetype": "text/x-python",
   "name": "python",
   "nbconvert_exporter": "python",
   "pygments_lexer": "ipython3",
   "version": "3.7.4"
  }
 },
 "nbformat": 4,
 "nbformat_minor": 2
}
