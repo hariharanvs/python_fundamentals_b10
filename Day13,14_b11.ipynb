{
 "cells": [
  {
   "cell_type": "code",
   "execution_count": 7,
   "metadata": {},
   "outputs": [],
   "source": [
    "class team:\n",
    "    def __init__(ipltema):\n",
    "        print(\"This is the IPL Team Constructor\")\n",
    "        print(\"It prints the above welcome message\")"
   ]
  },
  {
   "cell_type": "code",
   "execution_count": 8,
   "metadata": {},
   "outputs": [
    {
     "name": "stdout",
     "output_type": "stream",
     "text": [
      "This is the IPL Team Constructor\n",
      "It prints the above welcome message\n"
     ]
    }
   ],
   "source": [
    "csk = team()"
   ]
  },
  {
   "cell_type": "code",
   "execution_count": 24,
   "metadata": {},
   "outputs": [],
   "source": [
    "class ipl:\n",
    "    \n",
    "    def __init__(self,team,city):\n",
    "        self.team = team\n",
    "        self.city = city\n",
    "        \n",
    "        print(\"Team Name and City mapped\")\n",
    "        \n",
    "    def bat(self):\n",
    "     print(f\"{self.team.title()} is batting\")\n",
    "        \n",
    "    def bowl(self):\n",
    "        print(f\"{self.team.title()} is bowling\")"
   ]
  },
  {
   "cell_type": "code",
   "execution_count": 25,
   "metadata": {},
   "outputs": [
    {
     "name": "stdout",
     "output_type": "stream",
     "text": [
      "Team Name and City mapped\n"
     ]
    }
   ],
   "source": [
    "ipl2020 = ipl(\"csk\",\"chennai\")"
   ]
  },
  {
   "cell_type": "code",
   "execution_count": 18,
   "metadata": {},
   "outputs": [
    {
     "name": "stdout",
     "output_type": "stream",
     "text": [
      "Csk is batting\n"
     ]
    }
   ],
   "source": [
    "ipl2020.bat()"
   ]
  },
  {
   "cell_type": "code",
   "execution_count": 26,
   "metadata": {},
   "outputs": [
    {
     "name": "stdout",
     "output_type": "stream",
     "text": [
      "Csk is bowling\n"
     ]
    }
   ],
   "source": [
    "ipl2020.bowl()"
   ]
  },
  {
   "cell_type": "code",
   "execution_count": 29,
   "metadata": {},
   "outputs": [],
   "source": [
    "import classipl"
   ]
  },
  {
   "cell_type": "code",
   "execution_count": 30,
   "metadata": {},
   "outputs": [
    {
     "name": "stdout",
     "output_type": "stream",
     "text": [
      "Team Name and City mapped\n"
     ]
    }
   ],
   "source": [
    "team_mum = classipl.ipl(\"mi\",\"mumbai\")"
   ]
  },
  {
   "cell_type": "code",
   "execution_count": 31,
   "metadata": {},
   "outputs": [
    {
     "name": "stdout",
     "output_type": "stream",
     "text": [
      "Mi is batting\n"
     ]
    }
   ],
   "source": [
    "team_mum.bat()"
   ]
  },
  {
   "cell_type": "code",
   "execution_count": 32,
   "metadata": {},
   "outputs": [
    {
     "name": "stdout",
     "output_type": "stream",
     "text": [
      "Mi is bowling\n"
     ]
    }
   ],
   "source": [
    "team_mum.bowl()"
   ]
  },
  {
   "cell_type": "code",
   "execution_count": 33,
   "metadata": {},
   "outputs": [],
   "source": [
    "import classipl as teams"
   ]
  },
  {
   "cell_type": "code",
   "execution_count": 35,
   "metadata": {},
   "outputs": [
    {
     "name": "stdout",
     "output_type": "stream",
     "text": [
      "Team Name and City mapped\n"
     ]
    }
   ],
   "source": [
    "team_hyd = teams.ipl(\"srh\",\"hyderabad\")"
   ]
  },
  {
   "cell_type": "code",
   "execution_count": 37,
   "metadata": {},
   "outputs": [
    {
     "name": "stdout",
     "output_type": "stream",
     "text": [
      "Srh is batting\n"
     ]
    }
   ],
   "source": [
    "team_hyd.bat()"
   ]
  },
  {
   "cell_type": "code",
   "execution_count": 38,
   "metadata": {},
   "outputs": [
    {
     "name": "stdout",
     "output_type": "stream",
     "text": [
      "Srh is bowling\n"
     ]
    }
   ],
   "source": [
    "team_hyd.bowl()"
   ]
  },
  {
   "cell_type": "code",
   "execution_count": null,
   "metadata": {},
   "outputs": [],
   "source": []
  }
 ],
 "metadata": {
  "kernelspec": {
   "display_name": "Python 3",
   "language": "python",
   "name": "python3"
  },
  "language_info": {
   "codemirror_mode": {
    "name": "ipython",
    "version": 3
   },
   "file_extension": ".py",
   "mimetype": "text/x-python",
   "name": "python",
   "nbconvert_exporter": "python",
   "pygments_lexer": "ipython3",
   "version": "3.7.4"
  }
 },
 "nbformat": 4,
 "nbformat_minor": 2
}
